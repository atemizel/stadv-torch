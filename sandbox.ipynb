{
 "cells": [
  {
   "cell_type": "code",
   "execution_count": 135,
   "id": "38c73ac4-82dc-480c-afc7-317a328794e6",
   "metadata": {},
   "outputs": [],
   "source": [
    "import torch\n",
    "from einops import repeat, rearrange, reduce"
   ]
  },
  {
   "cell_type": "code",
   "execution_count": 141,
   "id": "a0c13afe-0a4b-4397-ad50-8bc2d6fa7ce7",
   "metadata": {},
   "outputs": [
    {
     "data": {
      "text/plain": [
       "torch.Size([9, 70, 60, 2])"
      ]
     },
     "execution_count": 141,
     "metadata": {},
     "output_type": "execute_result"
    }
   ],
   "source": [
    "H=70\n",
    "W=60\n",
    "BATCH_SIZE=9\n",
    "\n",
    "batched_grid = repeat(\n",
    "    torch.stack(torch.meshgrid(torch.arange(H), torch.arange(W))),\n",
    "    'c h w -> b h w c',\n",
    "    b = BATCH_SIZE,\n",
    ")\n",
    "\n",
    "batched_grid.shape"
   ]
  },
  {
   "cell_type": "code",
   "execution_count": 146,
   "id": "d256a1eb-a5a5-4c5f-be3e-700f66ee282c",
   "metadata": {},
   "outputs": [
    {
     "data": {
      "text/plain": [
       "tensor([[1, 2, 3],\n",
       "        [4, 5, 6],\n",
       "        [7, 8, 9]])"
      ]
     },
     "execution_count": 146,
     "metadata": {},
     "output_type": "execute_result"
    }
   ],
   "source": [
    "a = torch.tensor(\n",
    "    [\n",
    "        [1, 2, 3],\n",
    "        [4, 5, 6],\n",
    "        [7, 8, 9] \n",
    "    ]\n",
    ")\n",
    "\n"
   ]
  },
  {
   "cell_type": "code",
   "execution_count": null,
   "id": "b9f7eab1-9bf9-483a-8215-1e0d97e1fe67",
   "metadata": {},
   "outputs": [],
   "source": [
    "index = "
   ]
  },
  {
   "cell_type": "code",
   "execution_count": 128,
   "id": "44075b89-ff95-423d-b134-1572e6d89f67",
   "metadata": {},
   "outputs": [
    {
     "data": {
      "text/plain": [
       "tensor([[[ 0,  1,  2,  3],\n",
       "         [ 5,  6,  7,  8],\n",
       "         [10, 11, 12, 13]],\n",
       "\n",
       "        [[ 0,  1,  2,  3],\n",
       "         [ 5,  6,  7,  8],\n",
       "         [10, 11, 12, 13]]])"
      ]
     },
     "execution_count": 128,
     "metadata": {},
     "output_type": "execute_result"
    }
   ],
   "source": [
    "torch.gather(a, 0, index)"
   ]
  },
  {
   "cell_type": "code",
   "execution_count": null,
   "id": "538392bc-948d-436a-a3af-097121a16ca5",
   "metadata": {},
   "outputs": [],
   "source": []
  },
  {
   "cell_type": "code",
   "execution_count": null,
   "id": "b3151e40-761c-46af-90d8-840648e60f82",
   "metadata": {},
   "outputs": [],
   "source": []
  }
 ],
 "metadata": {
  "kernelspec": {
   "display_name": "Python 3",
   "language": "python",
   "name": "python3"
  },
  "language_info": {
   "codemirror_mode": {
    "name": "ipython",
    "version": 3
   },
   "file_extension": ".py",
   "mimetype": "text/x-python",
   "name": "python",
   "nbconvert_exporter": "python",
   "pygments_lexer": "ipython3",
   "version": "3.8.8"
  }
 },
 "nbformat": 4,
 "nbformat_minor": 5
}
